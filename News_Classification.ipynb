{
 "cells": [
  {
   "cell_type": "markdown",
   "metadata": {},
   "source": [
    "# News Classification\n",
    "\n",
    "This notebook contains the steps required to gather the data, train a model, and make predictions on news headlines to predict whether it originated from a left, right or center-leaning news source. \n",
    "\n",
    "To obtain a dataset of pre-labeled news headlines the site www.allsides.com was scraped using Beautiful Soup. These labeled headlines were used to train a series of different models. The simplest model with the highest F1 score was then selected. \n",
    "\n",
    "Although this notebook focuses only on gathering the data and choosing the best model, this project is then continued to integrate Flask and Heroku to arrive at the final product: https://ml-playground.herokuapp.com/. There you can navigate to the Headlines-Classifier tab and enter a headline for the model to classify.\n",
    "\n",
    "Lastly, the idea of using merely news headlines to train a model that classifies the political inclination of their source is a fairly naive approach. Thus, the models were not expected to, and in the end did not perform very well. A more robust approach would be to include the actual contents of the articles as opposed to only their headlines. Additionally, more sources of data could have been used, say CNN as left-leaning and FoxNews as right. In the end, the intent is mainly to showcase the ability of Machine Learning projects to be interactive, not so much on how to build a ML model. \n",
    "\n",
    "#### Sources:\n",
    "1. Source of Sources: https://guides.lib.umich.edu/c.php?g=637508&p=4462444\n",
    "2. All Sides: https://www.allsides.com/unbiased-balanced-news\n",
    "3. Facebooks Side by Side: http://graphics.wsj.com/blue-feed-red-feed/"
   ]
  },
  {
   "cell_type": "code",
   "execution_count": 1,
   "metadata": {},
   "outputs": [
    {
     "name": "stderr",
     "output_type": "stream",
     "text": [
      "C:\\Users\\dbejarano\\Anaconda3\\lib\\site-packages\\h5py\\__init__.py:36: FutureWarning: Conversion of the second argument of issubdtype from `float` to `np.floating` is deprecated. In future, it will be treated as `np.float64 == np.dtype(float).type`.\n",
      "  from ._conv import register_converters as _register_converters\n",
      "Using TensorFlow backend.\n",
      "C:\\Users\\dbejarano\\Anaconda3\\lib\\site-packages\\sklearn\\ensemble\\weight_boosting.py:29: DeprecationWarning: numpy.core.umath_tests is an internal NumPy module and should not be imported. It will be removed in a future NumPy release.\n",
      "  from numpy.core.umath_tests import inner1d\n",
      "C:\\Users\\dbejarano\\Anaconda3\\lib\\site-packages\\sklearn\\cross_validation.py:41: DeprecationWarning: This module was deprecated in version 0.18 in favor of the model_selection module into which all the refactored classes and functions are moved. Also note that the interface of the new CV iterators are different from that of this module. This module will be removed in 0.20.\n",
      "  \"This module will be removed in 0.20.\", DeprecationWarning)\n"
     ]
    }
   ],
   "source": [
    "from bs4 import BeautifulSoup\n",
    "import lxml\n",
    "import pandas as pd\n",
    "from urllib.request import urlopen\n",
    "import numpy as np\n",
    "from datetime import datetime\n",
    "import os\n",
    "\n",
    "# Text Processing\n",
    "import nltk\n",
    "from keras import preprocessing\n",
    "import string\n",
    "from nltk.corpus import stopwords\n",
    "from nltk.stem.porter import PorterStemmer\n",
    "from nltk.stem import WordNetLemmatizer\n",
    "from sklearn.feature_extraction.text import CountVectorizer, TfidfTransformer, TfidfVectorizer\n",
    "from keras.preprocessing.text import Tokenizer\n",
    "from keras.preprocessing.sequence import pad_sequences \n",
    "from nltk.text import Text  \n",
    "\n",
    "# Visualizatoin\n",
    "import seaborn as sns\n",
    "import matplotlib.pyplot as plt\n",
    "%matplotlib inline\n",
    "import matplotlib as mpl\n",
    "\n",
    "# Models\n",
    "from sklearn.model_selection import train_test_split\n",
    "from sklearn.ensemble import RandomForestClassifier\n",
    "from sklearn.svm import LinearSVC\n",
    "from sklearn.naive_bayes import MultinomialNB\n",
    "from sklearn.linear_model import LogisticRegression\n",
    "from sklearn.cross_validation import cross_val_predict\n",
    "from keras.layers import LSTM, Embedding, Dense\n",
    "from keras.models import Sequential\n",
    "\n",
    "# Evaluate\n",
    "from sklearn.metrics import confusion_matrix, classification_report, f1_score\n",
    "\n",
    "from flask import Flask, request"
   ]
  },
  {
   "cell_type": "code",
   "execution_count": 2,
   "metadata": {},
   "outputs": [],
   "source": [
    "# Function to get articles headline and organize into dataframe\n",
    "\n",
    "\n",
    "def get_allsides_titles():\n",
    "    '''Parses through left, center and right-inclined headlines\n",
    "    Source: www.allsides.com\n",
    "    Returns a dataframe with headings classified as left, center, right\n",
    "    '''\n",
    "    # Provide URLs\n",
    "    main_url = 'https://www.allsides.com/unbiased-balanced-news'\n",
    "    \n",
    "    topics_list = ['bridging-divides', 'criminal-justice', 'election-2012', 'environment',\n",
    "                  'healthcare', 'gay-rights', 'nuclear-weapons', 'taxes', 'campaign-finance', 'economy-jobs',\n",
    "                  'elections', 'free-speech', 'immigration', 'media-bias-media-watch', 'polarization', 'terrorism', \n",
    "                  'civil-rights', 'education', 'energy', 'guns', 'inequality', \n",
    "                  'middle-east', 'role-government', 'trade']\n",
    "    url_list = [\"https://www.allsides.com/topics/{}\".format(topic) for topic in topics_list]\n",
    "    url_list.append(main_url)\n",
    "    \n",
    "    # Create main data frame where all headlines will be added\n",
    "    df = pd.DataFrame(columns=['Headlines', 'Source', 'Inclination']) \n",
    "    \n",
    "    # Loop through URLs to get news titles\n",
    "    for url in url_list:\n",
    "#         print('Getting Data From: {}'.format(url))\n",
    "        html = urlopen(url)\n",
    "\n",
    "        # Read all html data\n",
    "        soup = BeautifulSoup(html.read(), 'lxml')\n",
    "\n",
    "        # Get headlines and add to dataframe\n",
    "        for side in ['left', 'right', 'center']:\n",
    "            section = soup.find(class_='region-triptych-{}'.format(side))\n",
    "            title_links = section.find_all(class_='news-title')\n",
    "            source_links = section.find_all(class_='news-source')\n",
    "            titles = [i.get_text()[1:-1] for i in title_links]\n",
    "            sources = [i.get_text() for i in source_links]\n",
    "\n",
    "            df_side = pd.DataFrame({'Headlines': titles, \n",
    "                                    'Inclination': [side]*len(titles),\n",
    "                                    'Source': sources})\n",
    "\n",
    "            df = pd.concat([df, df_side], axis=0, sort=True)\n",
    "\n",
    "    df.reset_index(drop=True, inplace=True)\n",
    "    df.drop_duplicates(inplace=True)\n",
    "\n",
    "    return(df)"
   ]
  },
  {
   "cell_type": "code",
   "execution_count": 3,
   "metadata": {},
   "outputs": [
    {
     "data": {
      "text/html": [
       "<div>\n",
       "<style scoped>\n",
       "    .dataframe tbody tr th:only-of-type {\n",
       "        vertical-align: middle;\n",
       "    }\n",
       "\n",
       "    .dataframe tbody tr th {\n",
       "        vertical-align: top;\n",
       "    }\n",
       "\n",
       "    .dataframe thead th {\n",
       "        text-align: right;\n",
       "    }\n",
       "</style>\n",
       "<table border=\"1\" class=\"dataframe\">\n",
       "  <thead>\n",
       "    <tr style=\"text-align: right;\">\n",
       "      <th></th>\n",
       "      <th>Headlines</th>\n",
       "      <th>Inclination</th>\n",
       "      <th>Source</th>\n",
       "    </tr>\n",
       "  </thead>\n",
       "  <tbody>\n",
       "    <tr>\n",
       "      <th>0</th>\n",
       "      <td>Intellectual humility: the importance of knowi...</td>\n",
       "      <td>left</td>\n",
       "      <td>Vox</td>\n",
       "    </tr>\n",
       "    <tr>\n",
       "      <th>1</th>\n",
       "      <td>The Bipartisan Group That’s Not Afraid of Part...</td>\n",
       "      <td>left</td>\n",
       "      <td>The Atlantic</td>\n",
       "    </tr>\n",
       "    <tr>\n",
       "      <th>2</th>\n",
       "      <td>Bill Clinton: George H.W. Bush’s Oval Office n...</td>\n",
       "      <td>left</td>\n",
       "      <td>Washington Post</td>\n",
       "    </tr>\n",
       "    <tr>\n",
       "      <th>3</th>\n",
       "      <td>Can lefties and right-wingers find common grou...</td>\n",
       "      <td>left</td>\n",
       "      <td>San Francisco Chronicle</td>\n",
       "    </tr>\n",
       "    <tr>\n",
       "      <th>4</th>\n",
       "      <td>Train for Thanksgiving With Our Angry Uncle Bot</td>\n",
       "      <td>left</td>\n",
       "      <td>Guest Writer - Left</td>\n",
       "    </tr>\n",
       "  </tbody>\n",
       "</table>\n",
       "</div>"
      ],
      "text/plain": [
       "                                           Headlines Inclination  \\\n",
       "0  Intellectual humility: the importance of knowi...        left   \n",
       "1  The Bipartisan Group That’s Not Afraid of Part...        left   \n",
       "2  Bill Clinton: George H.W. Bush’s Oval Office n...        left   \n",
       "3  Can lefties and right-wingers find common grou...        left   \n",
       "4    Train for Thanksgiving With Our Angry Uncle Bot        left   \n",
       "\n",
       "                    Source  \n",
       "0                      Vox  \n",
       "1             The Atlantic  \n",
       "2          Washington Post  \n",
       "3  San Francisco Chronicle  \n",
       "4      Guest Writer - Left  "
      ]
     },
     "metadata": {},
     "output_type": "display_data"
    }
   ],
   "source": [
    "# Get Headlines\n",
    "allsides_df = get_allsides_titles()\n",
    "display(allsides_df.head())"
   ]
  },
  {
   "cell_type": "code",
   "execution_count": 4,
   "metadata": {},
   "outputs": [],
   "source": [
    "# Save Today's DataFrame\n",
    "date = datetime.today().strftime('%Y-%m-%d')\n",
    "this_dir = os.path.dirname(os.path.abspath(\"__file__\"))\n",
    "dump_dir = os.path.join(this_dir, \"Extracted Data\")\n",
    "file_path = os.path.join(dump_dir, \"allsides_{}{}\".format(date,\".csv\"))\n",
    "allsides_df.to_csv(file_path)"
   ]
  },
  {
   "cell_type": "code",
   "execution_count": 5,
   "metadata": {
    "scrolled": true
   },
   "outputs": [
    {
     "data": {
      "text/html": [
       "<div>\n",
       "<style scoped>\n",
       "    .dataframe tbody tr th:only-of-type {\n",
       "        vertical-align: middle;\n",
       "    }\n",
       "\n",
       "    .dataframe tbody tr th {\n",
       "        vertical-align: top;\n",
       "    }\n",
       "\n",
       "    .dataframe thead th {\n",
       "        text-align: right;\n",
       "    }\n",
       "</style>\n",
       "<table border=\"1\" class=\"dataframe\">\n",
       "  <thead>\n",
       "    <tr style=\"text-align: right;\">\n",
       "      <th></th>\n",
       "      <th>Headlines</th>\n",
       "      <th>Inclination</th>\n",
       "      <th>Source</th>\n",
       "    </tr>\n",
       "  </thead>\n",
       "  <tbody>\n",
       "    <tr>\n",
       "      <th>0</th>\n",
       "      <td>Trumpy Bear: the perfect Christmas gift, no ma...</td>\n",
       "      <td>left</td>\n",
       "      <td>NaN</td>\n",
       "    </tr>\n",
       "    <tr>\n",
       "      <th>1</th>\n",
       "      <td>Russian 2016 Influence Operation Targeted Afri...</td>\n",
       "      <td>left</td>\n",
       "      <td>NaN</td>\n",
       "    </tr>\n",
       "    <tr>\n",
       "      <th>2</th>\n",
       "      <td>Russia’s Pro-Trump Disinformation Campaign Use...</td>\n",
       "      <td>left</td>\n",
       "      <td>NaN</td>\n",
       "    </tr>\n",
       "    <tr>\n",
       "      <th>3</th>\n",
       "      <td>The Republican Party versus democracy</td>\n",
       "      <td>left</td>\n",
       "      <td>NaN</td>\n",
       "    </tr>\n",
       "    <tr>\n",
       "      <th>4</th>\n",
       "      <td>OPINION: Trump slams Russia probe in face of n...</td>\n",
       "      <td>left</td>\n",
       "      <td>NaN</td>\n",
       "    </tr>\n",
       "  </tbody>\n",
       "</table>\n",
       "</div>"
      ],
      "text/plain": [
       "                                           Headlines Inclination Source\n",
       "0  Trumpy Bear: the perfect Christmas gift, no ma...        left    NaN\n",
       "1  Russian 2016 Influence Operation Targeted Afri...        left    NaN\n",
       "2  Russia’s Pro-Trump Disinformation Campaign Use...        left    NaN\n",
       "3              The Republican Party versus democracy        left    NaN\n",
       "4  OPINION: Trump slams Russia probe in face of n...        left    NaN"
      ]
     },
     "metadata": {},
     "output_type": "display_data"
    },
    {
     "name": "stdout",
     "output_type": "stream",
     "text": [
      "(6368, 3)\n",
      "(934, 3)\n"
     ]
    }
   ],
   "source": [
    "headlines_df = pd.DataFrame()\n",
    "\n",
    "for fname in os.listdir(dump_dir):\n",
    "    file_path = os.path.join(dump_dir, fname)\n",
    "    df = pd.read_csv(file_path, encoding=\"utf8\")\n",
    "    headlines_df = pd.concat([headlines_df, df], axis=0, sort=True)\n",
    "\n",
    "headlines_df.drop(\"Unnamed: 0\", inplace=True, axis=1)\n",
    "display(headlines_df.head())\n",
    "print(headlines_df.shape)\n",
    "\n",
    "# Remove Duplicates\n",
    "headlines_df.drop_duplicates(inplace=True)\n",
    "print(headlines_df.shape)"
   ]
  },
  {
   "cell_type": "code",
   "execution_count": 6,
   "metadata": {},
   "outputs": [
    {
     "name": "stdout",
     "output_type": "stream",
     "text": [
      "Proportion of News Sources Inclination\n"
     ]
    },
    {
     "data": {
      "image/png": "[encoded data removed]",
      "text/plain": [
       "<Figure size 432x360 with 1 Axes>"
      ]
     },
     "metadata": {},
     "output_type": "display_data"
    }
   ],
   "source": [
    "print(\"Proportion of News Sources Inclination\")\n",
    "plt.figure(figsize=(6, 5))\n",
    "_ = plt.pie(headlines_df['Inclination'].value_counts(), labels=np.unique(headlines_df['Inclination']))"
   ]
  },
  {
   "cell_type": "code",
   "execution_count": 7,
   "metadata": {},
   "outputs": [
    {
     "data": {
      "text/html": [
       "<div>\n",
       "<style scoped>\n",
       "    .dataframe tbody tr th:only-of-type {\n",
       "        vertical-align: middle;\n",
       "    }\n",
       "\n",
       "    .dataframe tbody tr th {\n",
       "        vertical-align: top;\n",
       "    }\n",
       "\n",
       "    .dataframe thead th {\n",
       "        text-align: right;\n",
       "    }\n",
       "</style>\n",
       "<table border=\"1\" class=\"dataframe\">\n",
       "  <thead>\n",
       "    <tr style=\"text-align: right;\">\n",
       "      <th></th>\n",
       "      <th>Headlines</th>\n",
       "      <th>Inclination</th>\n",
       "      <th>Source</th>\n",
       "    </tr>\n",
       "  </thead>\n",
       "  <tbody>\n",
       "    <tr>\n",
       "      <th>393</th>\n",
       "      <td>OPINION: Why Trump Can’t Build His Wall</td>\n",
       "      <td>center</td>\n",
       "      <td>Guest Writer</td>\n",
       "    </tr>\n",
       "    <tr>\n",
       "      <th>370</th>\n",
       "      <td>Revelations about Manafort’s 2016 interactions...</td>\n",
       "      <td>left</td>\n",
       "      <td>Washington Post</td>\n",
       "    </tr>\n",
       "    <tr>\n",
       "      <th>365</th>\n",
       "      <td>Zinke’s likely replacement has been 'the man b...</td>\n",
       "      <td>left</td>\n",
       "      <td>Politico</td>\n",
       "    </tr>\n",
       "    <tr>\n",
       "      <th>265</th>\n",
       "      <td>After losing court battle, DeVos to cancel $15...</td>\n",
       "      <td>center</td>\n",
       "      <td>USA TODAY</td>\n",
       "    </tr>\n",
       "    <tr>\n",
       "      <th>331</th>\n",
       "      <td>Think bigger</td>\n",
       "      <td>left</td>\n",
       "      <td>Washington Post</td>\n",
       "    </tr>\n",
       "    <tr>\n",
       "      <th>376</th>\n",
       "      <td>A Real Wall Against a Fake Threat Won't Make A...</td>\n",
       "      <td>right</td>\n",
       "      <td>Reason</td>\n",
       "    </tr>\n",
       "    <tr>\n",
       "      <th>383</th>\n",
       "      <td>After chaotic day, Donald Trump defends wall p...</td>\n",
       "      <td>center</td>\n",
       "      <td>USA TODAY</td>\n",
       "    </tr>\n",
       "    <tr>\n",
       "      <th>60</th>\n",
       "      <td>FDA's opioids adviser accuses agency of having...</td>\n",
       "      <td>left</td>\n",
       "      <td>The Guardian</td>\n",
       "    </tr>\n",
       "    <tr>\n",
       "      <th>25</th>\n",
       "      <td>US Senate passes sweeping criminal justice ref...</td>\n",
       "      <td>center</td>\n",
       "      <td>BBC News</td>\n",
       "    </tr>\n",
       "    <tr>\n",
       "      <th>189</th>\n",
       "      <td>Trump blames Democrats for deaths of migrant c...</td>\n",
       "      <td>right</td>\n",
       "      <td>Washington Times</td>\n",
       "    </tr>\n",
       "  </tbody>\n",
       "</table>\n",
       "</div>"
      ],
      "text/plain": [
       "                                             Headlines Inclination  \\\n",
       "393            OPINION: Why Trump Can’t Build His Wall      center   \n",
       "370  Revelations about Manafort’s 2016 interactions...        left   \n",
       "365  Zinke’s likely replacement has been 'the man b...        left   \n",
       "265  After losing court battle, DeVos to cancel $15...      center   \n",
       "331                                       Think bigger        left   \n",
       "376  A Real Wall Against a Fake Threat Won't Make A...       right   \n",
       "383  After chaotic day, Donald Trump defends wall p...      center   \n",
       "60   FDA's opioids adviser accuses agency of having...        left   \n",
       "25   US Senate passes sweeping criminal justice ref...      center   \n",
       "189  Trump blames Democrats for deaths of migrant c...       right   \n",
       "\n",
       "               Source  \n",
       "393      Guest Writer  \n",
       "370   Washington Post  \n",
       "365          Politico  \n",
       "265         USA TODAY  \n",
       "331   Washington Post  \n",
       "376            Reason  \n",
       "383         USA TODAY  \n",
       "60       The Guardian  \n",
       "25           BBC News  \n",
       "189  Washington Times  "
      ]
     },
     "execution_count": 7,
     "metadata": {},
     "output_type": "execute_result"
    }
   ],
   "source": [
    "# Shuffle Headlines\n",
    "shuffled_headlines_df = headlines_df.sample(len(headlines_df))\n",
    "shuffled_headlines_df.head(10)"
   ]
  },
  {
   "cell_type": "code",
   "execution_count": 8,
   "metadata": {},
   "outputs": [
    {
     "name": "stdout",
     "output_type": "stream",
     "text": [
      "['OPINION Trump Can’t Build Wall', 'Revelations Manafort’s 2016 interaction Russian associate show special counsel’s intense focus Russia contact', 'Zinke’s likely replacement man behind curtain']\n"
     ]
    }
   ],
   "source": [
    "# # Define function to process text\n",
    "def text_process(mess):# mess stands for message\n",
    "    '''\n",
    "    1. Remove punctuation\n",
    "    2. Remove Stop Words\n",
    "    3. Return list of cleaned text words\n",
    "    '''\n",
    "    nopunc = [c for c in mess if c not in string.punctuation]\n",
    "    nopunc = \"\".join(nopunc) # to join together separated characters back into words\n",
    "    lemmatizer = WordNetLemmatizer()\n",
    "    lemmatized_words = [lemmatizer.lemmatize(w) for w in nopunc.split() if w.lower() not in stopwords.words('english')] # returns a list of list of words\n",
    "    cleaned_sent = \" \".join(lemmatized_words) # returns a list of sentences\n",
    "    return(cleaned_sent)\n",
    "\n",
    "# Process Text\n",
    "clean_headlines = [text_process(mess) for mess in shuffled_headlines_df['Headlines']]\n",
    "print(clean_headlines[:3])"
   ]
  },
  {
   "cell_type": "code",
   "execution_count": 9,
   "metadata": {},
   "outputs": [
    {
     "name": "stdout",
     "output_type": "stream",
     "text": [
      "{0: 'center', 1: 'left', 2: 'right'}\n"
     ]
    }
   ],
   "source": [
    "# Convert Inclinations to Categories and Define y as numerical labels\n",
    "shuffled_headlines_df['Inclination'] = pd.Categorical(shuffled_headlines_df['Inclination'])\n",
    "y = shuffled_headlines_df['Inclination'].cat.codes\n",
    "labels_dict = dict(enumerate(shuffled_headlines_df['Inclination'].cat.categories))\n",
    "print(labels_dict)"
   ]
  },
  {
   "cell_type": "code",
   "execution_count": 10,
   "metadata": {},
   "outputs": [],
   "source": [
    "# Split into Train and Test\n",
    "headlines_train, headlines_test, y_train, y_test = train_test_split(clean_headlines, y, test_size=0.25)"
   ]
  },
  {
   "cell_type": "code",
   "execution_count": 11,
   "metadata": {},
   "outputs": [],
   "source": [
    "my_headline = \"todos vamos a morir\"\n",
    "if len(my_headline) < 15 or len(my_headline) > 75:\n",
    "    print(\"Error\")"
   ]
  },
  {
   "cell_type": "code",
   "execution_count": 12,
   "metadata": {},
   "outputs": [],
   "source": [
    "# Define Function to Get TF-IDF Scores and Counts\n",
    "\n",
    "def get_word_scores(train_data, test_data, vectorizer): \n",
    "    ''' Function to vectorize data and get words scores. In this particular case\n",
    "    we are using it for tf-idf scores and word counts. \n",
    "    The reason to include the test data, which is not immediately apparent, is that one of the classifiers in our\n",
    "    sentiment analysis will be based off the tf-idf and count vectors.\n",
    "    Input: training list of sentences, test list of sentences, and the vectorizer to use (e.g. CountVectorizer)\n",
    "    Outpout: train and test observations in tf-idf scores form, word score, and the fitted vectorizer '''\n",
    "    \n",
    "    # Fit vectorizer to train data. Transform train and test sets\n",
    "    vectorizer.fit(train_data)\n",
    "    x_train =  vectorizer.transform(train_data) \n",
    "    x_test = vectorizer.transform(test_data)\n",
    "\n",
    "    # Highest TF-IDF Scores\n",
    "    vocab = vectorizer.vocabulary_ # gives the number of words in our vocabulary\n",
    "    sum_words = x_train.sum(axis=0)\n",
    "    words_freq = sorted([(word, sum_words[0, idx]) for word, idx in vocab.items()], \n",
    "                        key=lambda x: x[1], reverse=True)\n",
    "    return(x_train, x_test, words_freq, vectorizer)\n",
    "\n",
    "\n",
    "# Get TF-IDF Score Vectors on Headliens\n",
    "tf_vectorizer = TfidfVectorizer(min_df=3, max_features=1000, strip_accents='unicode', analyzer='word',\n",
    "            ngram_range=(1, 1), use_idf=1, smooth_idf=1, sublinear_tf=1, stop_words='english')\n",
    "\n",
    "X_train_tf, X_test_tf, tf_scores, tf_model = get_word_scores(headlines_train, headlines_test, tf_vectorizer)\n",
    "\n",
    "# Get Counts Vectors on Headlines\n",
    "count_vectorizer = CountVectorizer(ngram_range=(1, 3), stop_words='english', max_features=1000)\n",
    "\n",
    "X_train_ct, X_test_ct, words_count, count_model = get_word_scores(headlines_train, headlines_test, count_vectorizer)"
   ]
  },
  {
   "cell_type": "code",
   "execution_count": 13,
   "metadata": {},
   "outputs": [],
   "source": [
    "# Set Up Training Features\n",
    "models = [\n",
    "    RandomForestClassifier(n_estimators=200, max_depth=3, random_state=0),\n",
    "    LinearSVC(),\n",
    "    MultinomialNB(),\n",
    "    LogisticRegression(multi_class='ovr'),\n",
    "]\n",
    "\n",
    "CV = 10"
   ]
  },
  {
   "cell_type": "code",
   "execution_count": 14,
   "metadata": {},
   "outputs": [
    {
     "data": {
      "image/png": "[encoded data removed]",
      "text/plain": [
       "<Figure size 576x360 with 1 Axes>"
      ]
     },
     "metadata": {},
     "output_type": "display_data"
    }
   ],
   "source": [
    "##### TF-IDF SCORES ####\n",
    "\n",
    "# Set parameters for cross validation\n",
    "cv_df = pd.DataFrame(index=range(CV * len(models)))\n",
    "entries = []\n",
    "\n",
    "# Fit models\n",
    "for model in models:\n",
    "    model_name = model.__class__.__name__\n",
    "    y_pred = cross_val_predict(model, X_train_tf, y_train, cv=10)\n",
    "    f1 = f1_score(y_train, y_pred, average='macro')\n",
    "    entries.append((model_name, f1))\n",
    "    \n",
    "cv_df = pd.DataFrame(entries, columns=['model_name', 'f1'])\n",
    "   \n",
    "# Plot F1 scores\n",
    "fig, axes = plt.subplots(figsize=(8, 5))\n",
    "sns.barplot(x='model_name', y='f1', data=cv_df, palette='viridis')\n",
    "axes.set_xticklabels(rotation=30, labels=cv_df['model_name'])\n",
    "axes.set(title=\"F1 Score on 4 Different Models\")\n",
    "plt.show()"
   ]
  },
  {
   "cell_type": "code",
   "execution_count": 15,
   "metadata": {},
   "outputs": [
    {
     "name": "stderr",
     "output_type": "stream",
     "text": [
      "C:\\Users\\dbejarano\\Anaconda3\\lib\\site-packages\\sklearn\\metrics\\classification.py:1135: UndefinedMetricWarning: F-score is ill-defined and being set to 0.0 in labels with no predicted samples.\n",
      "  'precision', 'predicted', average, warn_for)\n"
     ]
    },
    {
     "data": {
      "image/png": "[encoded data removed]",
      "text/plain": [
       "<Figure size 576x360 with 1 Axes>"
      ]
     },
     "metadata": {},
     "output_type": "display_data"
    }
   ],
   "source": [
    "##### COUNT VECTOR SCORES ####\n",
    "\n",
    "# Set parameters for cross validation\n",
    "cv_df = pd.DataFrame(index=range(CV * len(models)))\n",
    "entries = []\n",
    "\n",
    "# Fit models\n",
    "for model in models:\n",
    "    model_name = model.__class__.__name__\n",
    "    y_pred = cross_val_predict(model, X_train_ct, y_train, cv=10)\n",
    "    f1 = f1_score(y_train, y_pred, average='macro')\n",
    "    entries.append((model_name, f1))\n",
    "    \n",
    "cv_df = pd.DataFrame(entries, columns=['model_name', 'f1'])\n",
    "   \n",
    "# Plot F1 scores\n",
    "fig, axes = plt.subplots(figsize=(8, 5))\n",
    "sns.barplot(x='model_name', y='f1', data=cv_df, palette='viridis')\n",
    "axes.set_xticklabels(rotation=30, labels=cv_df['model_name'])\n",
    "axes.set(title=\"F1 Score on 4 Different Models\")\n",
    "plt.show()"
   ]
  },
  {
   "cell_type": "code",
   "execution_count": 16,
   "metadata": {},
   "outputs": [
    {
     "name": "stdout",
     "output_type": "stream",
     "text": [
      "Classification Report:  \n",
      "              precision    recall  f1-score   support\n",
      "\n",
      "          0       0.41      0.41      0.41        78\n",
      "          1       0.47      0.31      0.38        89\n",
      "          2       0.38      0.55      0.45        67\n",
      "\n",
      "avg / total       0.43      0.41      0.41       234\n",
      "\n",
      "[[32 18 28]\n",
      " [29 28 32]\n",
      " [17 13 37]]\n"
     ]
    }
   ],
   "source": [
    "# Get Report on Best Performing Model So far\n",
    "\n",
    "log_reg_model = LogisticRegression(multi_class='ovr')\n",
    "log_reg_model.fit(X_train_tf, y_train)\n",
    "pred_log_reg = log_reg_model.predict(X_test_tf)\n",
    "\n",
    "# Reports\n",
    "print('Classification Report: ', '\\n', classification_report(y_test, pred_log_reg))\n",
    "print(confusion_matrix(y_test, pred_log_reg))"
   ]
  },
  {
   "cell_type": "code",
   "execution_count": 17,
   "metadata": {},
   "outputs": [],
   "source": [
    "##### RNN #####\n",
    "\n",
    "# Define Headlines Vector Parameters\n",
    "max_words = 1000\n",
    "max_len = 20\n",
    "max_features = 100\n",
    "\n",
    "\n",
    "# Tokenize and Pad\n",
    "def tokenize_and_pad(train_array, test_array, max_words):\n",
    "\n",
    "    '''Takes the training and testing dataframes, as well as the desired vocab size as input and returns:\n",
    "    1. tokenized, padded train comments\n",
    "    2. tokenized, padded test comments\n",
    "    3. train labels\n",
    "    4. test labels\n",
    "    5. the word_index to associate numerical vectors to sentences'''\n",
    "    \n",
    "    tokenizer = Tokenizer(num_words=max_words) \n",
    "    tokenizer.fit_on_texts(train_array) # creates a list of tokens (words) of the 10000 most common words on \"texts\"\n",
    "    train_tokens = tokenizer.texts_to_sequences(train_array) # converts \"texts\" into sequences of tokens for the 10000 most common words\n",
    "    test_tokens = tokenizer.texts_to_sequences(test_array)\n",
    "\n",
    "    word_index = tokenizer.word_index\n",
    "    train_padded = pad_sequences(train_tokens, maxlen=max_len)\n",
    "    test_padded = pad_sequences(test_tokens, maxlen=max_len)\n",
    "\n",
    "    return(train_padded, test_padded, word_index)\n",
    "\n",
    "\n",
    "# Get sentence vectors and labels\n",
    "token_headlines_train, token_headlines_test, word_index = tokenize_and_pad(headlines_train, headlines_test, max_words)\n",
    "\n",
    "# Convert y to one-hot encoding\n",
    "y_train_oh = pd.get_dummies(y_train)\n",
    "y_test_oh = pd.get_dummies(y_test)\n",
    "\n",
    "# Load Embeddings File\n",
    "glove_dir = r'C:\\Users\\dbejarano\\Dropbox\\Data Analytics Projects\\03 Pre-Trained Basis'\n",
    "glove_file_path = os.path.join(glove_dir, 'glove.6B.100d.txt')\n",
    "\n",
    "\n",
    "# Create Embedding Matrix\n",
    "def get_coefs(word, *arr): return word, np.asarray(arr, dtype='float32')\n",
    "\n",
    "embed_size = 100\n",
    "embeddings_index = dict(get_coefs(*o.rstrip().rsplit(' ')) for o in open(glove_file_path, encoding=\"utf8\"))\n",
    "\n",
    "nb_words = min(max_words, len(word_index))\n",
    "embedding_matrix = np.zeros((nb_words, embed_size))\n",
    "for word, i in word_index.items():\n",
    "    if i >= max_words: continue\n",
    "    embedding_vector = embeddings_index.get(word)\n",
    "    if embedding_vector is not None: embedding_matrix[i-1] = embedding_vector"
   ]
  },
  {
   "cell_type": "code",
   "execution_count": 18,
   "metadata": {},
   "outputs": [
    {
     "name": "stdout",
     "output_type": "stream",
     "text": [
      "Train on 560 samples, validate on 140 samples\n",
      "Epoch 1/10\n",
      "560/560 [==============================] - 1s 3ms/step - loss: 1.1179 - acc: 0.3339 - val_loss: 1.0863 - val_acc: 0.3786\n",
      "Epoch 2/10\n",
      "560/560 [==============================] - 0s 545us/step - loss: 1.0743 - acc: 0.4321 - val_loss: 1.1262 - val_acc: 0.3000\n",
      "Epoch 3/10\n",
      "560/560 [==============================] - 0s 611us/step - loss: 1.0502 - acc: 0.4643 - val_loss: 1.1019 - val_acc: 0.3929\n",
      "Epoch 4/10\n",
      "560/560 [==============================] - 0s 554us/step - loss: 1.0197 - acc: 0.5018 - val_loss: 1.1170 - val_acc: 0.3857\n",
      "Epoch 5/10\n",
      "560/560 [==============================] - 0s 550us/step - loss: 0.9831 - acc: 0.5554 - val_loss: 1.1171 - val_acc: 0.3929\n",
      "Epoch 6/10\n",
      "560/560 [==============================] - 0s 564us/step - loss: 0.9369 - acc: 0.6018 - val_loss: 1.1274 - val_acc: 0.3857\n",
      "Epoch 7/10\n",
      "560/560 [==============================] - 0s 538us/step - loss: 0.8747 - acc: 0.6375 - val_loss: 1.1404 - val_acc: 0.3786\n",
      "Epoch 8/10\n",
      "560/560 [==============================] - 0s 555us/step - loss: 0.8131 - acc: 0.7107 - val_loss: 1.1331 - val_acc: 0.4143\n",
      "Epoch 9/10\n",
      "560/560 [==============================] - 0s 545us/step - loss: 0.7391 - acc: 0.7179 - val_loss: 1.2197 - val_acc: 0.3857\n",
      "Epoch 10/10\n",
      "560/560 [==============================] - 0s 580us/step - loss: 0.6721 - acc: 0.7679 - val_loss: 1.3198 - val_acc: 0.4000\n"
     ]
    }
   ],
   "source": [
    "# Build Model\n",
    "rnn_model = Sequential()\n",
    "rnn_model.add(Embedding(max_words, embed_size, weights=[embedding_matrix]))\n",
    "rnn_model.add(LSTM(32))\n",
    "rnn_model.add(Dense(3, activation='softmax'))\n",
    "\n",
    "# Train Model\n",
    "rnn_model.compile(optimizer='rmsprop', loss='categorical_crossentropy', metrics=['acc'])\n",
    "rnn_history = rnn_model.fit(token_headlines_train, y_train_oh, epochs=10, batch_size=32, validation_split=0.2)"
   ]
  },
  {
   "cell_type": "code",
   "execution_count": 19,
   "metadata": {},
   "outputs": [
    {
     "name": "stdout",
     "output_type": "stream",
     "text": [
      "234/234 [==============================] - 0s 521us/step\n"
     ]
    },
    {
     "data": {
      "text/plain": [
       "<matplotlib.legend.Legend at 0x3038aef0>"
      ]
     },
     "execution_count": 19,
     "metadata": {},
     "output_type": "execute_result"
    },
    {
     "data": {
      "image/png": "[encoded data removed]",
      "text/plain": [
       "<Figure size 1152x360 with 2 Axes>"
      ]
     },
     "metadata": {},
     "output_type": "display_data"
    }
   ],
   "source": [
    "# Predict and Evaluate\n",
    "pred_rnn = rnn_model.predict(token_headlines_test, verbose=1)\n",
    "\n",
    "# Plot Training and Validation Losses and Accuracy Per Epoch\n",
    "epochs = range(1, len(rnn_history.history['loss'])+1)\n",
    "fig, axes = plt.subplots(nrows=1, ncols=2, )\n",
    "fig.set_size_inches(16, 5)\n",
    "axes[0].plot(epochs, rnn_history.history['loss'], color='green', label='Training Loss', linewidth=4)\n",
    "axes[0].plot(epochs, rnn_history.history['val_loss'], color='purple', label='Validation Loss', linewidth=4)\n",
    "axes[0].set(title='Training and Validation Loss')\n",
    "axes[0].legend()\n",
    "mpl.style.use('seaborn')\n",
    "\n",
    "axes[1].plot(epochs, rnn_history.history['acc'], color='green', label='Training acc')\n",
    "axes[1].plot(epochs, rnn_history.history['val_acc'], color='purple', label='Validation acc')\n",
    "axes[1].set(title='Training and Validation Accuracy')\n",
    "axes[1].legend()"
   ]
  },
  {
   "cell_type": "code",
   "execution_count": 20,
   "metadata": {},
   "outputs": [
    {
     "name": "stdout",
     "output_type": "stream",
     "text": [
      "Epoch 1/10\n",
      "700/700 [==============================] - 2s 3ms/step - loss: 1.1048 - acc: 0.3500\n",
      "Epoch 2/10\n",
      "700/700 [==============================] - 1s 979us/step - loss: 1.0599 - acc: 0.4343\n",
      "Epoch 3/10\n",
      "700/700 [==============================] - 1s 1ms/step - loss: 1.0229 - acc: 0.5029\n",
      "Epoch 4/10\n",
      "700/700 [==============================] - 1s 2ms/step - loss: 0.9701 - acc: 0.5657\n",
      "Epoch 5/10\n",
      "700/700 [==============================] - 1s 1ms/step - loss: 0.9012 - acc: 0.6014\n",
      "Epoch 6/10\n",
      "700/700 [==============================] - 1s 1ms/step - loss: 0.8325 - acc: 0.6457\n",
      "Epoch 7/10\n",
      "700/700 [==============================] - 1s 2ms/step - loss: 0.7566 - acc: 0.6971\n",
      "Epoch 8/10\n",
      "700/700 [==============================] - 1s 2ms/step - loss: 0.6747 - acc: 0.7400\n",
      "Epoch 9/10\n",
      "700/700 [==============================] - 1s 2ms/step - loss: 0.6028 - acc: 0.7786\n",
      "Epoch 10/10\n",
      "700/700 [==============================] - 1s 1ms/step - loss: 0.5237 - acc: 0.8043\n",
      "234/234 [==============================] - 0s 1ms/step\n",
      "Classification Report:  \n",
      "              precision    recall  f1-score   support\n",
      "\n",
      "          0       0.48      0.41      0.44        78\n",
      "          1       0.43      0.46      0.45        89\n",
      "          2       0.35      0.37      0.36        67\n",
      "\n",
      "avg / total       0.42      0.42      0.42       234\n",
      "\n",
      "[[32 27 19]\n",
      " [20 41 28]\n",
      " [15 27 25]]\n"
     ]
    }
   ],
   "source": [
    "# Retrain to get test set results\n",
    "rnn_model = Sequential()\n",
    "rnn_model.add(Embedding(max_words, embed_size, weights=[embedding_matrix]))\n",
    "rnn_model.add(LSTM(32))\n",
    "rnn_model.add(Dense(3, activation='softmax'))\n",
    "\n",
    "# Train Model\n",
    "rnn_model.compile(optimizer='rmsprop', loss='categorical_crossentropy', metrics=['acc'])\n",
    "rnn_history = rnn_model.fit(token_headlines_train, y_train_oh, epochs=10, batch_size=16)\n",
    "pred_rnn = rnn_model.predict(token_headlines_test, verbose=1)\n",
    "\n",
    "# Reports\n",
    "print('Classification Report: ', '\\n', classification_report(y_test, [np.argmax(x) for x in pred_rnn]))\n",
    "print(confusion_matrix(y_test, [np.argmax(x) for x in pred_rnn]))"
   ]
  }
 ],
 "metadata": {
  "kernelspec": {
   "display_name": "Python [conda root]",
   "language": "python",
   "name": "conda-root-py"
  },
  "language_info": {
   "codemirror_mode": {
    "name": "ipython",
    "version": 3
   },
   "file_extension": ".py",
   "mimetype": "text/x-python",
   "name": "python",
   "nbconvert_exporter": "python",
   "pygments_lexer": "ipython3",
   "version": "3.6.5"
  }
 },
 "nbformat": 4,
 "nbformat_minor": 2
}
